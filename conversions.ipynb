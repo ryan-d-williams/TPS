{
 "cells": [
  {
   "cell_type": "markdown",
   "metadata": {},
   "source": [
    "## <u>Quick Unit Conversions Tools</u>\n",
    "Author: Travis \"Flip\" Worden, 25A FTC"
   ]
  },
  {
   "cell_type": "markdown",
   "metadata": {},
   "source": [
    "Hey! This file contains four unit conversions to quickly swap from any unit of Temperature, Pressure, Distance, Velocity, or Force for the purposes of testing.\n",
    "\n",
    "Steps:\n",
    "* Run the entire notebook, \n",
    "* Scroll all the way to the bottom\n",
    "* Update any of the usage fields at the bottom for your desired values and units!"
   ]
  },
  {
   "cell_type": "markdown",
   "metadata": {},
   "source": [
    "## Temperature"
   ]
  },
  {
   "cell_type": "code",
   "execution_count": 63,
   "metadata": {},
   "outputs": [],
   "source": [
    "def convert_temperature(temp, from_unit, to_unit):\n",
    "    \"\"\"Converts temperature between Celsius, Fahrenheit, Kelvin, and Rankine.\n",
    "\n",
    "    Args:\n",
    "        temp: The temperature value to convert.\n",
    "        from_unit: The original unit of the temperature (e.g., 'C', 'F', 'K', 'R').\n",
    "        to_unit: The desired unit of the converted temperature.\n",
    "\n",
    "    Returns:\n",
    "        The converted temperature value.\n",
    "    \"\"\"\n",
    "\n",
    "    if from_unit == 'C' and to_unit == 'F':\n",
    "        result =  (temp * 9/5) + 32\n",
    "    elif from_unit == 'F' and to_unit == 'C':\n",
    "        result =  (temp - 32) * 5/9\n",
    "    elif from_unit == 'C' and to_unit == 'K':\n",
    "        result =  temp + 273.15\n",
    "    elif from_unit == 'K' and to_unit == 'C':\n",
    "        result =  temp - 273.15\n",
    "    elif from_unit == 'F' and to_unit == 'K':\n",
    "        result =  (temp - 32) * 5/9 + 273.15\n",
    "    elif from_unit == 'K' and to_unit == 'F':\n",
    "        result =  (temp - 273.15) * 9/5 + 32\n",
    "    elif from_unit == 'C' and to_unit == 'R':\n",
    "        result =  (temp + 273.15) * 9/5\n",
    "    elif from_unit == 'R' and to_unit == 'C':\n",
    "        result =  (temp - 491.67) * 5/9\n",
    "    elif from_unit == 'F' and to_unit == 'R':\n",
    "        result =  temp + 459.67\n",
    "    elif from_unit == 'R' and to_unit == 'F':\n",
    "        result =  temp - 459.67\n",
    "    elif from_unit == 'K' and to_unit == 'R':\n",
    "        result =  temp * 9/5\n",
    "    elif from_unit == 'R' and to_unit == 'K':\n",
    "        result =  temp * 5/9\n",
    "    elif from_unit == to_unit:\n",
    "        result =  temp\n",
    "    \n",
    "    else:\n",
    "        result = \"NA\"\n",
    "        print(\"Invalid unit conversion.\")\n",
    "        \n",
    "    print(f\"{temp}°{from_unit} = {result}°{to_unit}\")\n",
    "        \n",
    "    return result\n"
   ]
  },
  {
   "cell_type": "markdown",
   "metadata": {},
   "source": [
    "## Pressure"
   ]
  },
  {
   "cell_type": "code",
   "execution_count": 64,
   "metadata": {},
   "outputs": [],
   "source": [
    "def convert_pressure(value, from_unit, to_unit):\n",
    "    \"\"\"\n",
    "    Convert pressure between different units.\n",
    "    \n",
    "    Unit options: 'Pa', 'atm', 'inhg', 'mmhg', 'psf'\n",
    "    \n",
    "    Base unit for internal conversion is Pascal (Pa)\n",
    "    Conversion factors based on standard conditions:\n",
    "    1 atm = 101325 Pa\n",
    "    1 inHg = 3386.39 Pa\n",
    "    1 mmHg = 133.322 Pa\n",
    "    1 lb/ft² = 47.8803 Pa\n",
    "    \"\"\"\n",
    "    \n",
    "    # First convert input to Pascals and store in dictionary\n",
    "    to_pascal = {\n",
    "        'pa': 1,\n",
    "        'atm': 101325,\n",
    "        'inhg': 3386.39,\n",
    "        'mmhg': 133.322,\n",
    "        'psf': 47.8803\n",
    "    }\n",
    "    \n",
    "    # Dictionary of conversion factors from Pascal\n",
    "    from_pascal = {\n",
    "        'pa': 1,\n",
    "        'atm': 1/101325,\n",
    "        'inhg': 1/3386.39,\n",
    "        'mmhg': 1/133.322,\n",
    "        'psf': 1/47.8803\n",
    "    }\n",
    "    \n",
    "    # Convert input to lowercase for case-insensitive comparison\n",
    "    from_unit = from_unit.lower()\n",
    "    to_unit = to_unit.lower()\n",
    "    \n",
    "    # Check if units are valid\n",
    "    if from_unit not in to_pascal or to_unit not in from_pascal:\n",
    "        return \"Invalid unit. Please use: atm, inHg, mmHg, psf, or Pa\"\n",
    "    \n",
    "    # Convert to Pascals first, then to desired unit\n",
    "    pascals = value * to_pascal[from_unit]\n",
    "    result = pascals * from_pascal[to_unit]\n",
    "    \n",
    "    print(f\"{value:.2f}{from_unit} = {result:.2f}{to_unit}\")\n",
    "\n",
    "    \n",
    "    return result"
   ]
  },
  {
   "cell_type": "markdown",
   "metadata": {},
   "source": [
    "## Distance"
   ]
  },
  {
   "cell_type": "code",
   "execution_count": 65,
   "metadata": {},
   "outputs": [],
   "source": [
    "def convert_distance(value, from_unit, to_unit):\n",
    "    \"\"\"\n",
    "    Convert distances between different units.\n",
    "    \n",
    "    Unit options: 'NM', 'mi', 'ft', 'km', 'm'\n",
    "    \n",
    "    Base unit for internal conversion is meters (m)\n",
    "    Standard conversion factors:\n",
    "    1 NM = 1852 meters\n",
    "    1 statute mile = 1609.34 meters\n",
    "    1 foot = 0.3048 meters\n",
    "    1 kilometer = 1000 meters\n",
    "    1 meter = 1 meter\n",
    "    \"\"\"\n",
    "    \n",
    "    # First convert input to meters\n",
    "    # Dictionary of conversion factors to meters\n",
    "    to_meters = {\n",
    "        'm': 1,\n",
    "        'meters': 1,\n",
    "        'km': 1000,\n",
    "        'kilometers': 1000,\n",
    "        'nm': 1852,\n",
    "        'nautical miles': 1852,\n",
    "        'mi': 1609.34,\n",
    "        'miles': 1609.34,\n",
    "        'ft': 0.3048,\n",
    "        'feet': 0.3048\n",
    "    }\n",
    "    \n",
    "    # Dictionary of conversion factors from meters\n",
    "    from_meters = {\n",
    "        'm': 1,\n",
    "        'meters': 1,\n",
    "        'km': 1/1000,\n",
    "        'kilometers': 1/1000,\n",
    "        'nm': 1/1852,\n",
    "        'nautical miles': 1/1852,\n",
    "        'mi': 1/1609.34,\n",
    "        'miles': 1/1609.34,\n",
    "        'ft': 1/0.3048,\n",
    "        'feet': 1/0.3048\n",
    "    }\n",
    "    \n",
    "    # Convert input to lowercase and handle common variations\n",
    "    from_unit = from_unit.lower().strip()\n",
    "    to_unit = to_unit.lower().strip()\n",
    "    \n",
    "    # Check if units are valid\n",
    "    if from_unit not in to_meters or to_unit not in from_meters:\n",
    "        return \"Invalid unit. Please use: NM (nautical miles), mi (statute miles), ft (feet), km (kilometers), or m (meters)\"\n",
    "    \n",
    "    # Check for negative distances\n",
    "    if value < 0:\n",
    "        return \"Please enter a non-negative distance value\"\n",
    "    \n",
    "    # Convert to meters first, then to desired unit\n",
    "    meters = value * to_meters[from_unit]\n",
    "    result = meters * from_meters[to_unit]\n",
    "    \n",
    "    print(f\"{value:.2f}{from_unit} = {result:.2f}{to_unit}\")\n",
    "\n",
    "    \n",
    "    return result"
   ]
  },
  {
   "cell_type": "markdown",
   "metadata": {},
   "source": [
    "## Velocity"
   ]
  },
  {
   "cell_type": "code",
   "execution_count": 66,
   "metadata": {},
   "outputs": [],
   "source": [
    "def convert_velocity(value, from_unit, to_unit):\n",
    "    \"\"\"\n",
    "    Convert velocities between different units.\n",
    "    \n",
    "    Unit options: 'knots', 'kts', 'mph', 'mi/hr', 'ft/s', 'ft/sec', 'fps'\n",
    "    \n",
    "    Base unit for internal conversion is feet per second (ft/s)\n",
    "    Standard conversion factors:\n",
    "    1 knot = 1.688 ft/s (exact)\n",
    "    1 mph = 1.467 ft/s\n",
    "    1 ft/s = 1 ft/s\n",
    "    \n",
    "    These relationships are derived from:\n",
    "    1 knot = 1 nautical mile per hour = 6076 ft/hr = 1.688 ft/s\n",
    "    1 mph = 5280 ft/hr = 1.467 ft/s\n",
    "    \"\"\"\n",
    "    \n",
    "    # First convert input to ft/s\n",
    "    # Dictionary of conversion factors to ft/s\n",
    "    to_ftps = {\n",
    "        'ft/s': 1,\n",
    "        'ft/sec': 1,\n",
    "        'fps': 1,\n",
    "        'knots': 1.688,\n",
    "        'kts': 1.688,\n",
    "        'mph': 1.467,\n",
    "        'mi/hr': 1.467\n",
    "    }\n",
    "    \n",
    "    # Dictionary of conversion factors from ft/s\n",
    "    from_ftps = {\n",
    "        'ft/s': 1,\n",
    "        'ft/sec': 1,\n",
    "        'fps': 1,\n",
    "        'knots': 1/1.688,\n",
    "        'kts': 1/1.688,\n",
    "        'mph': 1/1.467,\n",
    "        'mi/hr': 1/1.467\n",
    "    }\n",
    "    \n",
    "    # Convert input to lowercase and handle common variations\n",
    "    from_unit = from_unit.lower().strip()\n",
    "    to_unit = to_unit.lower().strip()\n",
    "    \n",
    "    # Check if units are valid\n",
    "    if from_unit not in to_ftps or to_unit not in from_ftps:\n",
    "        return \"Invalid unit. Please use: knots (or kts), mph (or mi/hr), ft/s (or ft/sec, fps)\"\n",
    "    \n",
    "    # Convert to ft/s first, then to desired unit\n",
    "    ftps = value * to_ftps[from_unit]\n",
    "    result = ftps * from_ftps[to_unit]\n",
    "    \n",
    "    print(f\"{value:.2f}{from_unit} = {result:.2f}{to_unit}\")\n",
    "\n",
    "    return result"
   ]
  },
  {
   "cell_type": "markdown",
   "metadata": {},
   "source": [
    "## Force"
   ]
  },
  {
   "cell_type": "code",
   "execution_count": 78,
   "metadata": {},
   "outputs": [],
   "source": [
    "def convert_force(value, from_unit, to_unit):\n",
    "    \"\"\"\n",
    "    Convert forces between pounds-force (lbf) and Newtons (N).\n",
    "    \n",
    "    The relationship between these units comes from their definitions:\n",
    "    1 lbf = force needed to accelerate 1 pound-mass at standard gravity\n",
    "    1 N = force needed to accelerate 1 kg at 1 m/s²\n",
    "    \n",
    "    Standard conversion:\n",
    "    1 lbf = 4.44822 N (exact)\n",
    "    \n",
    "    This relationship can be derived from:\n",
    "    1 lbf = 1 lbm × g₀ = (0.45359237 kg) × (9.80665 m/s²) = 4.44822 N\n",
    "    where g₀ is standard gravity (32.174 ft/s² or 9.80665 m/s²)\n",
    "    \"\"\"\n",
    "    \n",
    "    # Conversion factor (exact)\n",
    "    LBF_TO_N = 4.44822\n",
    "    \n",
    "    # Dictionary of conversion factors to Newtons\n",
    "    to_newton = {\n",
    "        'n': 1,\n",
    "        'lbf': LBF_TO_N,\n",
    "    }\n",
    "    \n",
    "    # Dictionary of conversion factors from Newtons\n",
    "    from_newton = {\n",
    "        'n': 1,\n",
    "        'lbf': 1/LBF_TO_N,\n",
    "    }\n",
    "    \n",
    "    # Convert input to lowercase and handle common variations\n",
    "    from_unit_out = from_unit.lower().strip()\n",
    "    to_unit_out = to_unit.lower().strip()\n",
    "    \n",
    "    # Check if units are valid\n",
    "    if from_unit_out not in to_newton or to_unit_out not in from_newton:\n",
    "        return \"Invalid unit. Please use: N (Newtons) or lbf (pounds-force)\"\n",
    "    \n",
    "    # Convert to Newtons first, then to desired unit\n",
    "    newtons = value * to_newton[from_unit_out]\n",
    "    result = newtons * from_newton[to_unit_out]\n",
    "    \n",
    "    print(f\"{value:.2f}{from_unit} = {result:.2f}{to_unit}\")\n",
    "\n",
    "    return result"
   ]
  },
  {
   "cell_type": "markdown",
   "metadata": {},
   "source": [
    "## NACA Decoding"
   ]
  },
  {
   "cell_type": "code",
   "execution_count": 85,
   "metadata": {},
   "outputs": [],
   "source": [
    "def decode_naca(naca_code):\n",
    "    max_camber = int(naca_code[0]) / 100.0\n",
    "    camber_position = int(naca_code[1]) / 10.0\n",
    "    max_thickness = int(naca_code[2:]) / 100.0\n",
    "\n",
    "    print(f\"NACA {naca_code} Airfoil:\")\n",
    "    print(f\"  - Maximum Camber: {max_camber * 100:.1f}% of chord\")\n",
    "    print(f\"  - Max Camber Position: {camber_position * 100:.1f}% of chord\")\n",
    "    print(f\"  - Maximum Thickness: {max_thickness * 100:.1f}% of chord\")"
   ]
  },
  {
   "cell_type": "markdown",
   "metadata": {},
   "source": [
    "### Temperature Usage"
   ]
  },
  {
   "cell_type": "code",
   "execution_count": 67,
   "metadata": {},
   "outputs": [
    {
     "name": "stdout",
     "output_type": "stream",
     "text": [
      "25°C = 298.15°K\n"
     ]
    }
   ],
   "source": [
    "# Example usage:\n",
    "celsius_temp = 25\n",
    "#Unit options: 'C', 'F', 'K', 'R'\n",
    "fahrenheit_temp = convert_temperature(celsius_temp, 'C', 'K')"
   ]
  },
  {
   "cell_type": "markdown",
   "metadata": {},
   "source": [
    "### Pressure Usage:"
   ]
  },
  {
   "cell_type": "code",
   "execution_count": 68,
   "metadata": {},
   "outputs": [
    {
     "name": "stdout",
     "output_type": "stream",
     "text": [
      "101325.00pa = 2116.21psf\n"
     ]
    }
   ],
   "source": [
    "#Example usage\n",
    "pressure = 101325 #Pascal\n",
    "#Unit options: 'Pa', 'atm', 'inhg', 'mmhg', 'psf'\n",
    "pressure = convert_pressure(pressure, 'Pa', 'psf')"
   ]
  },
  {
   "cell_type": "markdown",
   "metadata": {},
   "source": [
    "### Distance Usage:"
   ]
  },
  {
   "cell_type": "code",
   "execution_count": 69,
   "metadata": {},
   "outputs": [
    {
     "name": "stdout",
     "output_type": "stream",
     "text": [
      "6076.00ft = 1.00nm\n"
     ]
    }
   ],
   "source": [
    "distance = 6076 #ft\n",
    "#Unit options: 'NM', 'mi', 'ft', 'km', 'm'\n",
    "distance = convert_distance(distance, 'ft', 'NM')"
   ]
  },
  {
   "cell_type": "markdown",
   "metadata": {},
   "source": [
    "### Velocity Usage"
   ]
  },
  {
   "cell_type": "code",
   "execution_count": 70,
   "metadata": {},
   "outputs": [
    {
     "name": "stdout",
     "output_type": "stream",
     "text": [
      "100.00ft/s = 59.24knots\n"
     ]
    }
   ],
   "source": [
    "velocity = 100 #ft/s\n",
    "#Unit options: 'knots', 'kts', 'mph', 'mi/hr', 'ft/s', 'ft/sec', 'fps'\n",
    "velocity = convert_velocity(velocity, 'ft/s', 'knots')"
   ]
  },
  {
   "cell_type": "markdown",
   "metadata": {},
   "source": [
    "### Force Usage"
   ]
  },
  {
   "cell_type": "code",
   "execution_count": 80,
   "metadata": {},
   "outputs": [
    {
     "name": "stdout",
     "output_type": "stream",
     "text": [
      "100.00lbf = 444.82N\n"
     ]
    }
   ],
   "source": [
    "force = 100 #lbf\n",
    "#Unit options: 'N', 'lbf'\n",
    "force = convert_force(force, 'lbf', 'N')\n"
   ]
  },
  {
   "cell_type": "markdown",
   "metadata": {},
   "source": [
    "### Decoding Naca"
   ]
  },
  {
   "cell_type": "code",
   "execution_count": 87,
   "metadata": {},
   "outputs": [
    {
     "name": "stdout",
     "output_type": "stream",
     "text": [
      "NACA 2415 Airfoil:\n",
      "  - Maximum Camber: 2.0% of chord\n",
      "  - Max Camber Position: 40.0% of chord\n",
      "  - Maximum Thickness: 15.0% of chord\n"
     ]
    }
   ],
   "source": [
    "decode_naca(\"2415\")"
   ]
  },
  {
   "cell_type": "markdown",
   "metadata": {},
   "source": []
  }
 ],
 "metadata": {
  "kernelspec": {
   "display_name": "DataScience",
   "language": "python",
   "name": "python3"
  },
  "language_info": {
   "codemirror_mode": {
    "name": "ipython",
    "version": 3
   },
   "file_extension": ".py",
   "mimetype": "text/x-python",
   "name": "python",
   "nbconvert_exporter": "python",
   "pygments_lexer": "ipython3",
   "version": "3.9.19"
  }
 },
 "nbformat": 4,
 "nbformat_minor": 2
}
