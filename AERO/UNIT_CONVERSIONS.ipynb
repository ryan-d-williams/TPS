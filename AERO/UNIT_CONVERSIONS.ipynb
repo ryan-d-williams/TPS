{
 "cells": [
  {
   "cell_type": "markdown",
   "metadata": {},
   "source": [
    "# KTAS <-> FPS\n",
    "\n",
    "- 1 knot = 1.68781 feet per second\n"
   ]
  },
  {
   "cell_type": "code",
   "execution_count": 5,
   "metadata": {},
   "outputs": [
    {
     "name": "stdout",
     "output_type": "stream",
     "text": [
      "168.781\n",
      "620.0\n"
     ]
    }
   ],
   "source": [
    "def speed_convert(speed, from_kts=True):\n",
    "    KNOTS_TO_FPS = 1.68781\n",
    "    if from_kts:\n",
    "        return speed * KNOTS_TO_FPS\n",
    "    else:\n",
    "        return speed / KNOTS_TO_FPS\n",
    "\n",
    "\n",
    "def fps_to_ktas(fps):\n",
    "    return speed_convert(fps, from_kts=False)\n",
    "\n",
    "\n",
    "def ktas_to_fps(ktas):\n",
    "    return speed_convert(ktas, from_kts=True)\n",
    "\n",
    "\n",
    "print(ktas_to_fps(100))\n",
    "print(fps_to_ktas(1046.4422))"
   ]
  },
  {
   "cell_type": "markdown",
   "metadata": {},
   "source": [
    "## TEMPERATURE CONVERT\n"
   ]
  },
  {
   "cell_type": "code",
   "execution_count": 4,
   "metadata": {},
   "outputs": [
    {
     "name": "stdout",
     "output_type": "stream",
     "text": [
      "288.15\n"
     ]
    }
   ],
   "source": [
    "def convert_temperature(value, from_unit, to_unit):\n",
    "    # Convert 'value' from 'from_unit' --> Kelvin\n",
    "    if from_unit == \"C\":\n",
    "        temp_in_kelvin = value + 273.15\n",
    "    elif from_unit == \"F\":\n",
    "        temp_in_kelvin = (value - 32.0) * 5.0 / 9.0 + 273.15\n",
    "    elif from_unit == \"K\":\n",
    "        temp_in_kelvin = value\n",
    "    elif from_unit == \"R\":\n",
    "        temp_in_kelvin = value * 5.0 / 9.0\n",
    "\n",
    "    # Convert from Kelvin --> 'to_unit'\n",
    "    if to_unit == \"C\":\n",
    "        return temp_in_kelvin - 273.15\n",
    "    elif to_unit == \"F\":\n",
    "        return (temp_in_kelvin - 273.15) * 9.0 / 5.0 + 32.0\n",
    "    elif to_unit == \"K\":\n",
    "        return temp_in_kelvin\n",
    "    elif to_unit == \"R\":\n",
    "        return temp_in_kelvin * 9.0 / 5.0\n",
    "\n",
    "\n",
    "print(convert_temperature(15, \"C\", \"K\"))"
   ]
  },
  {
   "cell_type": "markdown",
   "metadata": {},
   "source": [
    "# Meters <-> Feet\n"
   ]
  },
  {
   "cell_type": "code",
   "execution_count": 7,
   "metadata": {},
   "outputs": [
    {
     "name": "stdout",
     "output_type": "stream",
     "text": [
      "6.561679790026246\n",
      "2.000000064\n"
     ]
    }
   ],
   "source": [
    "def length_convert(value, from_feet=True):\n",
    "    factor_ft_to_m = 0.3048\n",
    "\n",
    "    if from_feet:\n",
    "        return value * factor_ft_to_m\n",
    "    else:\n",
    "        return value / factor_ft_to_m\n",
    "\n",
    "\n",
    "def ft_to_m(feet):\n",
    "    return length_convert(feet, from_feet=True)\n",
    "\n",
    "\n",
    "def m_to_ft(meters):\n",
    "    return length_convert(meters, from_feet=False)\n",
    "\n",
    "\n",
    "print(m_to_ft(2))\n",
    "print(ft_to_m(6.56168))\n"
   ]
  },
  {
   "cell_type": "markdown",
   "metadata": {},
   "source": [
    "# NACA DECODE\n"
   ]
  },
  {
   "cell_type": "code",
   "execution_count": null,
   "metadata": {},
   "outputs": [
    {
     "name": "stdout",
     "output_type": "stream",
     "text": [
      "NACA 0008 Airfoil:\n",
      "  - Maximum Camber: 0.0% of chord\n",
      "  - Max Camber Position: 0.0% of chord\n",
      "  - Maximum Thickness: 8.0% of chord\n"
     ]
    }
   ],
   "source": [
    "def decode_naca_4digit(naca_code):\n",
    "    max_camber = int(naca_code[0]) / 100.0\n",
    "    camber_position = int(naca_code[1]) / 10.0\n",
    "    max_thickness = int(naca_code[2:]) / 100.0\n",
    "\n",
    "    print(f\"NACA {naca_code} Airfoil:\")\n",
    "    print(f\"  - Maximum Camber: {max_camber * 100:.1f}% of chord\")\n",
    "    print(f\"  - Max Camber Position: {camber_position * 100:.1f}% of chord\")\n",
    "    print(f\"  - Maximum Thickness: {max_thickness * 100:.1f}% of chord\")\n",
    "\n",
    "\n",
    "decode_naca_4digit(\"1408\")"
   ]
  },
  {
   "cell_type": "markdown",
   "metadata": {},
   "source": [
    "## IN HG <-> LB/FT^2\n"
   ]
  },
  {
   "cell_type": "code",
   "execution_count": 11,
   "metadata": {},
   "outputs": [
    {
     "name": "stdout",
     "output_type": "stream",
     "text": [
      "1891.92585\n"
     ]
    }
   ],
   "source": [
    "def inHg_to_lbft2(pressure_inHg):\n",
    "    conversion_factor = 70.7262\n",
    "    return pressure_inHg * conversion_factor\n",
    "\n",
    "\n",
    "def lbft2_to_inHg(pressure_lbft2):\n",
    "    conversion_factor = 70.7262\n",
    "    return pressure_lbft2 / conversion_factor\n",
    "\n",
    "\n",
    "print(inHg_to_lbft2(26.75))"
   ]
  },
  {
   "cell_type": "markdown",
   "metadata": {},
   "source": [
    "# DENSITY (kg/m^3 <-> slug/ft^3)\n"
   ]
  },
  {
   "cell_type": "code",
   "execution_count": 2,
   "metadata": {},
   "outputs": [
    {
     "name": "stdout",
     "output_type": "stream",
     "text": [
      "0.0017554075039999998\n",
      "0.9044899810340563\n"
     ]
    }
   ],
   "source": [
    "def kgm3_to_slugft3(density_kgm3):\n",
    "    conversion_factor = 0.00194032  # 1 kg/m^3 = 0.00194032 slug/ft^3\n",
    "    return density_kgm3 * conversion_factor\n",
    "\n",
    "\n",
    "def slugft3_to_kgm3(density_slugft3):\n",
    "    conversion_factor = 0.00194032  # 1 kg/m^3 = 0.00194032 slug/ft^3\n",
    "    return density_slugft3 / conversion_factor\n",
    "\n",
    "\n",
    "print(kgm3_to_slugft3(0.9047))\n",
    "print(slugft3_to_kgm3(0.001755))"
   ]
  },
  {
   "cell_type": "markdown",
   "metadata": {},
   "source": [
    "## PRESSURE (psi <-> lb/ft^2 <-> Pa)\n"
   ]
  },
  {
   "cell_type": "code",
   "execution_count": 3,
   "metadata": {},
   "outputs": [
    {
     "name": "stdout",
     "output_type": "stream",
     "text": [
      "2088.0\n",
      "14.5\n"
     ]
    }
   ],
   "source": [
    "def convert_pressure(value, from_unit, to_unit):\n",
    "    psi_to_lbft2 = 144.0  # 1 psi = 144 lb/ft²\n",
    "    psi_to_pa = 6894.76  # 1 psi = 6894.76 Pa\n",
    "    lbft2_to_pa = 47.8803  # 1 lb/ft² = 47.8803 Pa\n",
    "\n",
    "    if from_unit == \"psi\":\n",
    "        psi_value = value\n",
    "    elif from_unit == \"lb/ft2\":\n",
    "        psi_value = value / psi_to_lbft2\n",
    "    elif from_unit == \"Pa\":\n",
    "        psi_value = value / psi_to_pa\n",
    "\n",
    "    if to_unit == \"psi\":\n",
    "        return psi_value\n",
    "    elif to_unit == \"lb/ft2\":\n",
    "        return psi_value * psi_to_lbft2\n",
    "    elif to_unit == \"Pa\":\n",
    "        return psi_value * psi_to_pa\n",
    "\n",
    "\n",
    "print(convert_pressure(14.5, \"psi\", \"lb/ft2\"))\n",
    "print(convert_pressure(2088, \"lb/ft2\", \"psi\"))"
   ]
  }
 ],
 "metadata": {
  "kernelspec": {
   "display_name": ".venv",
   "language": "python",
   "name": "python3"
  },
  "language_info": {
   "codemirror_mode": {
    "name": "ipython",
    "version": 3
   },
   "file_extension": ".py",
   "mimetype": "text/x-python",
   "name": "python",
   "nbconvert_exporter": "python",
   "pygments_lexer": "ipython3",
   "version": "3.12.4"
  }
 },
 "nbformat": 4,
 "nbformat_minor": 4
}
